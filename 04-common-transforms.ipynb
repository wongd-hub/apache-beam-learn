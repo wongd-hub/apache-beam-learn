{
 "cells": [
  {
   "cell_type": "markdown",
   "metadata": {},
   "source": [
    "# Common Transforms\n",
    "## Summary of common transforms\n",
    "\n",
    "*Filter*\n",
    "- Filter all elements in a **PCollection** with `beam.Filter(<predicate-fn>)`\n",
    "    - `<predicate-fn>` can be pre-defined or lambda form\n",
    "    - Passing extra args to `beam.Filter()` passes those args into the second arg onwards of `<predicate-fn>`\n",
    "        - Using this info, you can pass a *singleton* or a dictionary into the second arg, and use that to filter your **PCollection**\n",
    "\n",
    "*Aggregations - Count*\n",
    "\n",
    "\n",
    "## Filter\n",
    "\n",
    "`PCollection`s can be filtered using the `Filter` transform. Create a filter by supplying a predicate, and `Filter` will remove all elements of the `PCollection` that don't satisfy the predicate.\n",
    "\n",
    "e.g.:"
   ]
  },
  {
   "cell_type": "code",
   "execution_count": 4,
   "metadata": {},
   "outputs": [
    {
     "name": "stdout",
     "output_type": "stream",
     "text": [
      "{'icon': '🍓', 'name': 'Strawberry', 'duration': 'perennial'}\n",
      "{'icon': '🍆', 'name': 'Eggplant', 'duration': 'perennial'}\n",
      "{'icon': '🥔', 'name': 'Potato', 'duration': 'perennial'}\n"
     ]
    }
   ],
   "source": [
    "import apache_beam as beam\n",
    "\n",
    "def is_perennial(plant):\n",
    "  return plant['duration'] == 'perennial'\n",
    "\n",
    "with beam.Pipeline() as p:\n",
    "    perennials = (\n",
    "        p \n",
    "        | 'Gardening plants' >> beam.Create([\n",
    "            {'icon': '🍓', 'name': 'Strawberry', 'duration': 'perennial'},\n",
    "            {'icon': '🥕', 'name': 'Carrot', 'duration': 'biennial'},\n",
    "            {'icon': '🍆', 'name': 'Eggplant', 'duration': 'perennial'},\n",
    "            {'icon': '🍅', 'name': 'Tomato', 'duration': 'annual'},\n",
    "            {'icon': '🥔', 'name': 'Potato', 'duration': 'perennial'},\n",
    "        ])\n",
    "        # | 'Filter perennials' >> beam.Filter(is_perennial)\n",
    "        # Alternatively:\n",
    "        | 'Filter perennials' >> beam.Filter(lambda plant: plant['duration'] == 'perennial')\n",
    "        | beam.Map(print)\n",
    "    )"
   ]
  },
  {
   "cell_type": "markdown",
   "metadata": {},
   "source": [
    "### Filtering with multiple arguments\n",
    "You can also pass multiple arguments to `Filter`, they are passed as additional positional arguments or keyword arguments to the function."
   ]
  },
  {
   "cell_type": "code",
   "execution_count": 5,
   "metadata": {},
   "outputs": [
    {
     "name": "stdout",
     "output_type": "stream",
     "text": [
      "{'icon': '🍓', 'name': 'Strawberry', 'duration': 'perennial'}\n",
      "{'icon': '🍆', 'name': 'Eggplant', 'duration': 'perennial'}\n",
      "{'icon': '🥔', 'name': 'Potato', 'duration': 'perennial'}\n"
     ]
    }
   ],
   "source": [
    "def has_duration(plant, duration):\n",
    "    return plant['duration'] == duration\n",
    "\n",
    "with beam.Pipeline() as p:\n",
    "    perennials = (\n",
    "        p\n",
    "        | 'Gardening plants' >> beam.Create([\n",
    "            {'icon': '🍓', 'name': 'Strawberry', 'duration': 'perennial'},\n",
    "            {'icon': '🥕', 'name': 'Carrot', 'duration': 'biennial'},\n",
    "            {'icon': '🍆', 'name': 'Eggplant', 'duration': 'perennial'},\n",
    "            {'icon': '🍅', 'name': 'Tomato', 'duration': 'annual'},\n",
    "            {'icon': '🥔', 'name': 'Potato', 'duration': 'perennial'},\n",
    "        ])\n",
    "        | 'Filter perennials' >> beam.Filter(has_duration, 'perennial') # First arg is filled in with the piped in PCollection\n",
    "        | beam.Map(print)\n",
    "    )"
   ]
  },
  {
   "cell_type": "markdown",
   "metadata": {},
   "source": [
    "### Filtering with side inputs as singletons\n",
    "\n",
    "A *singleton* is a `PCollection` with only one element. We can use these to filter our input `PCollection`."
   ]
  },
  {
   "cell_type": "code",
   "execution_count": 6,
   "metadata": {},
   "outputs": [
    {
     "name": "stdout",
     "output_type": "stream",
     "text": [
      "{'icon': '🍓', 'name': 'Strawberry', 'duration': 'perennial'}\n",
      "{'icon': '🍆', 'name': 'Eggplant', 'duration': 'perennial'}\n",
      "{'icon': '🥔', 'name': 'Potato', 'duration': 'perennial'}\n"
     ]
    }
   ],
   "source": [
    "with beam.Pipeline() as p:\n",
    "\n",
    "    perennial = p | 'Perennial' >> beam.Create(['perennial'])\n",
    "\n",
    "    perennials = (\n",
    "        p \n",
    "        | 'Gardening plants' >> beam.Create([\n",
    "            {'icon': '🍓', 'name': 'Strawberry', 'duration': 'perennial'},\n",
    "            {'icon': '🥕', 'name': 'Carrot', 'duration': 'biennial'},\n",
    "            {'icon': '🍆', 'name': 'Eggplant', 'duration': 'perennial'},\n",
    "            {'icon': '🍅', 'name': 'Tomato', 'duration': 'annual'},\n",
    "            {'icon': '🥔', 'name': 'Potato', 'duration': 'perennial'},\n",
    "        ])\n",
    "        | 'Filter perennials' >> beam.Filter(\n",
    "            lambda plant, duration: plant['duration'] == duration,\n",
    "            duration = beam.pvalue.AsSingleton(perennial),\n",
    "        )\n",
    "        | beam.Map(print)\n",
    "    )"
   ]
  },
  {
   "cell_type": "markdown",
   "metadata": {},
   "source": [
    "### Filtering with side inputs as iterators\n",
    "\n",
    "If a `PCollection` has multiple values, you can pass that in as an iterator. This will access the elements lazily as needed, so can iterate over `PCollection`s that don't fit in memory."
   ]
  },
  {
   "cell_type": "code",
   "execution_count": 8,
   "metadata": {},
   "outputs": [
    {
     "name": "stdout",
     "output_type": "stream",
     "text": [
      "{'icon': '🍓', 'name': 'Strawberry', 'duration': 'perennial'}\n",
      "{'icon': '🥕', 'name': 'Carrot', 'duration': 'biennial'}\n",
      "{'icon': '🍆', 'name': 'Eggplant', 'duration': 'perennial'}\n",
      "{'icon': '🍅', 'name': 'Tomato', 'duration': 'annual'}\n"
     ]
    }
   ],
   "source": [
    "with beam.Pipeline() as p:\n",
    "\n",
    "    valid_durations = p | 'Valid durations' >> beam.Create([\n",
    "        'annual',\n",
    "        'biennial',\n",
    "        'perennial',\n",
    "    ])\n",
    "\n",
    "    perennials = (\n",
    "        p \n",
    "        | 'Gardening plants' >> beam.Create([\n",
    "            {'icon': '🍓', 'name': 'Strawberry', 'duration': 'perennial'},\n",
    "            {'icon': '🥕', 'name': 'Carrot', 'duration': 'biennial'},\n",
    "            {'icon': '🍆', 'name': 'Eggplant', 'duration': 'perennial'},\n",
    "            {'icon': '🍅', 'name': 'Tomato', 'duration': 'annual'},\n",
    "            {'icon': '🥔', 'name': 'Potato', 'duration': 'PERENNIAL'}, # note this is in all caps now\n",
    "        ])\n",
    "        | 'Filter perennials' >> beam.Filter(\n",
    "            lambda plant, valid_durations: plant['duration'] in valid_durations,\n",
    "            valid_durations = beam.pvalue.AsIter(valid_durations),\n",
    "        )\n",
    "        | beam.Map(print)\n",
    "    )"
   ]
  },
  {
   "cell_type": "markdown",
   "metadata": {},
   "source": [
    "### Filtering with side inputs as dictionaries\n",
    "\n",
    "If a `PCollection` is small enough to fit in memory, it can be passed as a dictionary into `Filter`. Each element must be a `(key, value)` pair. If the elements won't fit in memory, use `AsIter()` instead."
   ]
  },
  {
   "cell_type": "code",
   "execution_count": 9,
   "metadata": {},
   "outputs": [
    {
     "name": "stdout",
     "output_type": "stream",
     "text": [
      "{'icon': '🍓', 'name': 'Strawberry', 'duration': 'perennial'}\n",
      "{'icon': '🍆', 'name': 'Eggplant', 'duration': 'perennial'}\n",
      "{'icon': '🥔', 'name': 'Potato', 'duration': 'perennial'}\n"
     ]
    }
   ],
   "source": [
    "with beam.Pipeline() as p:\n",
    "\n",
    "    keep_duration = p | 'Duration filters' >> beam.Create([\n",
    "        ('annual', False),\n",
    "        ('biennial', False),\n",
    "        ('perennial', True),\n",
    "    ])\n",
    "\n",
    "    perennials = (\n",
    "        p \n",
    "        | 'Gardening plants' >> beam.Create([\n",
    "            {'icon': '🍓', 'name': 'Strawberry', 'duration': 'perennial'},\n",
    "            {'icon': '🥕', 'name': 'Carrot', 'duration': 'biennial'},\n",
    "            {'icon': '🍆', 'name': 'Eggplant', 'duration': 'perennial'},\n",
    "            {'icon': '🍅', 'name': 'Tomato', 'duration': 'annual'},\n",
    "            {'icon': '🥔', 'name': 'Potato', 'duration': 'perennial'}, # note this is in all caps now\n",
    "        ])\n",
    "        | 'Filter perennials' >> beam.Filter(\n",
    "            lambda plant, keep_duration: keep_duration[plant['duration']],\n",
    "            keep_duration = beam.pvalue.AsDict(keep_duration),\n",
    "        )\n",
    "        | beam.Map(print)\n",
    "    )"
   ]
  },
  {
   "cell_type": "markdown",
   "metadata": {},
   "source": [
    "### Chaining `Filter` statements\n",
    "\n",
    "We can also chain `Filter` statements."
   ]
  },
  {
   "cell_type": "code",
   "execution_count": 10,
   "metadata": {},
   "outputs": [
    {
     "name": "stdout",
     "output_type": "stream",
     "text": [
      "PCollection filtered value: arrows\n",
      "PCollection filtered value: arms\n",
      "PCollection filtered value: against\n"
     ]
    }
   ],
   "source": [
    "# Output PCollection\n",
    "class Output(beam.PTransform):\n",
    "    class _OutputFn(beam.DoFn):\n",
    "        def __init__(self, prefix=''):\n",
    "            super().__init__()\n",
    "            self.prefix = prefix\n",
    "\n",
    "        def process(self, element):\n",
    "            print(self.prefix+str(element))\n",
    "\n",
    "    def __init__(self, label=None,prefix=''):\n",
    "        super().__init__(label)\n",
    "        self.prefix = prefix\n",
    "\n",
    "    def expand(self, input):\n",
    "        input | beam.ParDo(self._OutputFn(self.prefix))\n",
    "\n",
    "with beam.Pipeline() as p:\n",
    "\n",
    "    string = \"To be, or not to be: that is the question: Whether 'tis nobler in the mind to suffer The slings and arrows of outrageous fortune, Or to take arms against a sea of troubles, And by opposing end them. To die: to sleep\"\n",
    "  \n",
    "    (\n",
    "        p  \n",
    "        | 'Convert to words' >> \n",
    "            beam.Create(string.split(' '))\n",
    "        | 'Filter for words starting with a' >>\n",
    "            beam.Filter(lambda word: word[0] == 'a')\n",
    "        | 'Filter for words that have more than three chars' >>\n",
    "            beam.Filter(lambda word: len(word) > 3)          \n",
    "        | 'Output' >>\n",
    "            Output(prefix='PCollection filtered value: ')                    \n",
    "    )"
   ]
  },
  {
   "cell_type": "markdown",
   "metadata": {},
   "source": [
    "## Aggregations\n",
    "### Count\n",
    "\n",
    "`Count` provides transformations for counting elements; either globally within the `PCollection`, or by each key.\n",
    "\n",
    "#### Count all elements\n",
    "\n",
    "Use `Count.Globally()` to count all elements in a `PCollection`, even duplicated elements."
   ]
  },
  {
   "cell_type": "code",
   "execution_count": 11,
   "metadata": {},
   "outputs": [
    {
     "name": "stdout",
     "output_type": "stream",
     "text": [
      "10\n"
     ]
    }
   ],
   "source": [
    "with beam.Pipeline() as p:\n",
    "    total_elements = (\n",
    "        p \n",
    "        | 'Create plants' >> beam.Create(['🍓', '🥕', '🥕', '🥕', '🍆', '🍆', '🍅', '🍅', '🍅', '🌽'])\n",
    "        | 'Count all elements' >> beam.combiners.Count.Globally()\n",
    "        | beam.Map(print)\n",
    "    )"
   ]
  },
  {
   "cell_type": "markdown",
   "metadata": {},
   "source": [
    "#### Counting per key\n",
    "\n",
    "Use `Count.PerKey()` to count the elements for each unique key in a `PCollection` of key-values."
   ]
  },
  {
   "cell_type": "code",
   "execution_count": 12,
   "metadata": {},
   "outputs": [
    {
     "name": "stdout",
     "output_type": "stream",
     "text": [
      "('spring', 4)\n",
      "('summer', 3)\n",
      "('fall', 2)\n",
      "('winter', 1)\n"
     ]
    }
   ],
   "source": [
    "with beam.Pipeline() as p:\n",
    "    total_elements_per_keys = (\n",
    "        p \n",
    "        | 'Create plants' >> beam.Create([\n",
    "            ('spring', '🍓'),\n",
    "            ('spring', '🥕'),\n",
    "            ('summer', '🥕'),\n",
    "            ('fall', '🥕'),\n",
    "            ('spring', '🍆'),\n",
    "            ('winter', '🍆'),\n",
    "            ('spring', '🍅'),\n",
    "            ('summer', '🍅'),\n",
    "            ('fall', '🍅'),\n",
    "            ('summer', '🌽'),\n",
    "        ])\n",
    "        | 'Count elements per key' >> beam.combiners.Count.PerKey()\n",
    "        | beam.Map(print)\n",
    "    )"
   ]
  },
  {
   "cell_type": "code",
   "execution_count": 16,
   "metadata": {},
   "outputs": [
    {
     "name": "stdout",
     "output_type": "stream",
     "text": [
      "(1, 1)\n",
      "(2, 1)\n",
      "(3, 2)\n",
      "(4, 1)\n",
      "5\n"
     ]
    }
   ],
   "source": [
    "# Counts per key and ignores value\n",
    "with beam.Pipeline() as p:\n",
    "    (\n",
    "        p \n",
    "        | beam.Create([(1, 36), (2, 91), (3, 33), (3, 11), (4, 67),])\n",
    "        | beam.combiners.Count.PerKey() \n",
    "        | beam.Map(print)\n",
    "    )\n",
    "\n",
    "# Counts elements in PCollection, which is 5 tuples\n",
    "with beam.Pipeline() as p:\n",
    "    (\n",
    "        p \n",
    "        | beam.Create([(1, 36), (2, 91), (3, 33), (3, 11), (4, 67),])\n",
    "        | beam.combiners.Count.Globally() \n",
    "        | beam.Map(print)\n",
    "    )"
   ]
  },
  {
   "cell_type": "markdown",
   "metadata": {},
   "source": [
    "#### Counting unique elements\n",
    "\n",
    "Use `Count.PerElement()` to count only the unique elements in a `PCollection`."
   ]
  },
  {
   "cell_type": "code",
   "execution_count": 13,
   "metadata": {},
   "outputs": [
    {
     "name": "stdout",
     "output_type": "stream",
     "text": [
      "('🍓', 1)\n",
      "('🥕', 3)\n",
      "('🍆', 2)\n",
      "('🍅', 3)\n",
      "('🌽', 1)\n"
     ]
    }
   ],
   "source": [
    "with beam.Pipeline() as p:\n",
    "    total_unique_elements = (\n",
    "        p \n",
    "        | 'Create produce' >> beam.Create(['🍓', '🥕', '🥕', '🥕', '🍆', '🍆', '🍅', '🍅', '🍅', '🌽'])\n",
    "        | 'Count unique elements' >> beam.combiners.Count.PerElement()\n",
    "        | beam.Map(print)\n",
    "    )"
   ]
  },
  {
   "cell_type": "markdown",
   "metadata": {},
   "source": [
    "#### Counting strings"
   ]
  },
  {
   "cell_type": "code",
   "execution_count": 19,
   "metadata": {},
   "outputs": [
    {
     "name": "stdout",
     "output_type": "stream",
     "text": [
      "PCollection filtered value: ('To', 2)\n",
      "PCollection filtered value: ('or', 2)\n",
      "PCollection filtered value: ('to', 4)\n",
      "PCollection filtered value: ('the', 3)\n",
      "PCollection filtered value: ('and', 2)\n",
      "PCollection filtered value: ('of', 2)\n"
     ]
    }
   ],
   "source": [
    "class SplitWords(beam.DoFn):\n",
    "    def __init__(self, delimiter=' '):\n",
    "        self.delimiter = delimiter\n",
    "\n",
    "    def process(self, text):\n",
    "        for word in text.split(self.delimiter):\n",
    "            yield word\n",
    "\n",
    "with beam.Pipeline() as p:\n",
    "    (\n",
    "        p \n",
    "        | beam.Create([\"To be, or not to be: that is the question: Whether 'tis nobler in the mind to suffer, the slings and arrows of outrageous fortune, or to take arms against a sea of troubles, and by opposing end them. To die: to sleep\"])\n",
    "        | 'Split sentence into words' >> \n",
    "            beam.ParDo(SplitWords()) \n",
    "        | 'Count number of times each word appears' >> \n",
    "            beam.combiners.Count.PerElement()\n",
    "        | 'Filter for those that appear > 1 times' >> \n",
    "            beam.Filter(lambda x: x[1] > 1)\n",
    "        | Output(prefix='PCollection filtered value: ')\n",
    "    )"
   ]
  },
  {
   "cell_type": "markdown",
   "metadata": {},
   "source": [
    "### Sum\n",
    "#### Sum of all elements in `PCollection`\n",
    "\n",
    "Find the global sum of a `PCollection` by running `CombineGlobally(sum)`."
   ]
  },
  {
   "cell_type": "code",
   "execution_count": 20,
   "metadata": {},
   "outputs": [
    {
     "name": "stdout",
     "output_type": "stream",
     "text": [
      "10\n"
     ]
    }
   ],
   "source": [
    "with beam.Pipeline() as p:\n",
    "  total = (\n",
    "    p \n",
    "    | 'Create numbers' >> beam.Create([3, 4, 1, 2])\n",
    "    | 'Sum values' >> beam.CombineGlobally(sum)\n",
    "    | beam.Map(print)\n",
    "  )"
   ]
  },
  {
   "cell_type": "code",
   "execution_count": 22,
   "metadata": {},
   "outputs": [
    {
     "name": "stdout",
     "output_type": "stream",
     "text": [
      "10\n"
     ]
    }
   ],
   "source": [
    "with beam.Pipeline() as p:\n",
    "  total = (\n",
    "    p \n",
    "    | 'Create numbers' >> beam.Create([(3, 4), (1, 2)])\n",
    "    # Need to flatten if elements in PCollection not already flat\n",
    "    # otherwise run into error\n",
    "    | 'Flatten' >> beam.FlatMap(lambda x: x)\n",
    "    | 'Sum values' >> beam.CombineGlobally(sum)\n",
    "    | beam.Map(print)\n",
    "  )"
   ]
  },
  {
   "cell_type": "markdown",
   "metadata": {},
   "source": [
    "#### Sum of elements by each key\n",
    "\n",
    "Use `Combine.PerKey()` to get the sum of all values grouped by each unique key in the `PCollection`'s key-values."
   ]
  },
  {
   "cell_type": "code",
   "execution_count": 23,
   "metadata": {},
   "outputs": [
    {
     "name": "stdout",
     "output_type": "stream",
     "text": [
      "('🥕', 5)\n",
      "('🍆', 1)\n",
      "('🍅', 12)\n"
     ]
    }
   ],
   "source": [
    "with beam.Pipeline() as p:\n",
    "    totals_per_key = (\n",
    "        p \n",
    "        | 'Create produce' >> beam.Create([\n",
    "            ('🥕', 3),\n",
    "            ('🥕', 2),\n",
    "            ('🍆', 1),\n",
    "            ('🍅', 4),\n",
    "            ('🍅', 5),\n",
    "            ('🍅', 3),\n",
    "        ])\n",
    "        | 'Sum values per key' >> beam.CombinePerKey(sum)\n",
    "        | beam.Map(print)\n",
    "    )"
   ]
  }
 ],
 "metadata": {
  "kernelspec": {
   "display_name": "apache-beam-learn",
   "language": "python",
   "name": "python3"
  },
  "language_info": {
   "codemirror_mode": {
    "name": "ipython",
    "version": 3
   },
   "file_extension": ".py",
   "mimetype": "text/x-python",
   "name": "python",
   "nbconvert_exporter": "python",
   "pygments_lexer": "ipython3",
   "version": "3.9.12"
  }
 },
 "nbformat": 4,
 "nbformat_minor": 2
}
